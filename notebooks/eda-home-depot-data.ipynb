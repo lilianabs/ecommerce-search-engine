{
 "cells": [
  {
   "cell_type": "code",
   "execution_count": 1,
   "metadata": {},
   "outputs": [],
   "source": [
    "import pandas as pd\n",
    "import matplotlib.pyplot as plt\n",
    "import seaborn as sns"
   ]
  },
  {
   "cell_type": "code",
   "execution_count": 2,
   "metadata": {},
   "outputs": [],
   "source": [
    "df = pd.read_csv(\"../data/home_depot_data_1_2021_12.csv\")"
   ]
  },
  {
   "cell_type": "code",
   "execution_count": 3,
   "metadata": {},
   "outputs": [
    {
     "data": {
      "text/html": [
       "<div>\n",
       "<style scoped>\n",
       "    .dataframe tbody tr th:only-of-type {\n",
       "        vertical-align: middle;\n",
       "    }\n",
       "\n",
       "    .dataframe tbody tr th {\n",
       "        vertical-align: top;\n",
       "    }\n",
       "\n",
       "    .dataframe thead th {\n",
       "        text-align: right;\n",
       "    }\n",
       "</style>\n",
       "<table border=\"1\" class=\"dataframe\">\n",
       "  <thead>\n",
       "    <tr style=\"text-align: right;\">\n",
       "      <th></th>\n",
       "      <th>index</th>\n",
       "      <th>url</th>\n",
       "      <th>title</th>\n",
       "      <th>images</th>\n",
       "      <th>description</th>\n",
       "      <th>product_id</th>\n",
       "      <th>sku</th>\n",
       "      <th>gtin13</th>\n",
       "      <th>brand</th>\n",
       "      <th>price</th>\n",
       "      <th>currency</th>\n",
       "      <th>availability</th>\n",
       "      <th>uniq_id</th>\n",
       "      <th>scraped_at</th>\n",
       "    </tr>\n",
       "  </thead>\n",
       "  <tbody>\n",
       "    <tr>\n",
       "      <th>0</th>\n",
       "      <td>0</td>\n",
       "      <td>https://www.homedepot.com/p/Carhartt-Men-s-3X-...</td>\n",
       "      <td>Men's 3X Large Carbon Heather Cotton/Polyester...</td>\n",
       "      <td>https://images.thdstatic.com/productImages/a7c...</td>\n",
       "      <td>This heavyweight, water-repellent hooded sweat...</td>\n",
       "      <td>310090686</td>\n",
       "      <td>1.004455e+09</td>\n",
       "      <td>8.868595e+11</td>\n",
       "      <td>Carhartt</td>\n",
       "      <td>64.99</td>\n",
       "      <td>USD</td>\n",
       "      <td>InStock</td>\n",
       "      <td>ba6b9373-a145-5203-a7fe-5d9ede759dbb</td>\n",
       "      <td>2021-12-14 00:55:53.060268</td>\n",
       "    </tr>\n",
       "    <tr>\n",
       "      <th>1</th>\n",
       "      <td>1</td>\n",
       "      <td>https://www.homedepot.com/p/Turmode-30-ft-RP-T...</td>\n",
       "      <td>Turmode 30 ft. RP TNC Female to RP TNC Male Ad...</td>\n",
       "      <td>https://images.thdstatic.com/productImages/87a...</td>\n",
       "      <td>If you need more length between your existing ...</td>\n",
       "      <td>206724580</td>\n",
       "      <td>1.001661e+09</td>\n",
       "      <td>6.697163e+11</td>\n",
       "      <td>Unbranded</td>\n",
       "      <td>71.61</td>\n",
       "      <td>USD</td>\n",
       "      <td>InStock</td>\n",
       "      <td>70b7dd77-6474-5085-9afa-cda486a7237d</td>\n",
       "      <td>2021-12-14 00:55:53.070474</td>\n",
       "    </tr>\n",
       "    <tr>\n",
       "      <th>2</th>\n",
       "      <td>2</td>\n",
       "      <td>https://www.homedepot.com/p/Carolina-Pet-Compa...</td>\n",
       "      <td>Large Tapestry Bolster Bed</td>\n",
       "      <td>https://images.thdstatic.com/productImages/e6b...</td>\n",
       "      <td>Polyester cover resembling rich Italian tapest...</td>\n",
       "      <td>310347105</td>\n",
       "      <td>1.005202e+09</td>\n",
       "      <td>8.300001e+11</td>\n",
       "      <td>Carolina Pet Company</td>\n",
       "      <td>166.83</td>\n",
       "      <td>USD</td>\n",
       "      <td>InStock</td>\n",
       "      <td>8f573cae-947d-5262-8e51-b9381e8babeb</td>\n",
       "      <td>2021-12-14 00:55:53.677894</td>\n",
       "    </tr>\n",
       "    <tr>\n",
       "      <th>3</th>\n",
       "      <td>3</td>\n",
       "      <td>https://www.homedepot.com/p/16-Gauge-Sinks-Ves...</td>\n",
       "      <td>16-Gauge-Sinks Vessel Sink in White with Faucet</td>\n",
       "      <td>https://images.thdstatic.com/productImages/a6e...</td>\n",
       "      <td>It features a rectangle shape. This vessel set...</td>\n",
       "      <td>312338711</td>\n",
       "      <td>1.005103e+09</td>\n",
       "      <td>6.279872e+11</td>\n",
       "      <td>Unbranded</td>\n",
       "      <td>507.63</td>\n",
       "      <td>USD</td>\n",
       "      <td>InStock</td>\n",
       "      <td>3867081f-ea97-5855-8d6d-603b8e81f983</td>\n",
       "      <td>2021-12-14 00:55:53.987718</td>\n",
       "    </tr>\n",
       "    <tr>\n",
       "      <th>4</th>\n",
       "      <td>4</td>\n",
       "      <td>https://www.homedepot.com/p/Adtec-Men-s-Crazy-...</td>\n",
       "      <td>Men's Crazy Horse 9'' Logger Boot - Steel Toe ...</td>\n",
       "      <td>https://images.thdstatic.com/productImages/e7f...</td>\n",
       "      <td>This 9 in. black full grain leather logger boo...</td>\n",
       "      <td>308561619</td>\n",
       "      <td>1.004096e+09</td>\n",
       "      <td>6.477880e+11</td>\n",
       "      <td>Adtec</td>\n",
       "      <td>103.59</td>\n",
       "      <td>USD</td>\n",
       "      <td>InStock</td>\n",
       "      <td>e810513f-e5ed-598b-a17b-7ab60a1170fb</td>\n",
       "      <td>2021-12-14 00:55:54.003789</td>\n",
       "    </tr>\n",
       "  </tbody>\n",
       "</table>\n",
       "</div>"
      ],
      "text/plain": [
       "   index                                                url  \\\n",
       "0      0  https://www.homedepot.com/p/Carhartt-Men-s-3X-...   \n",
       "1      1  https://www.homedepot.com/p/Turmode-30-ft-RP-T...   \n",
       "2      2  https://www.homedepot.com/p/Carolina-Pet-Compa...   \n",
       "3      3  https://www.homedepot.com/p/16-Gauge-Sinks-Ves...   \n",
       "4      4  https://www.homedepot.com/p/Adtec-Men-s-Crazy-...   \n",
       "\n",
       "                                               title  \\\n",
       "0  Men's 3X Large Carbon Heather Cotton/Polyester...   \n",
       "1  Turmode 30 ft. RP TNC Female to RP TNC Male Ad...   \n",
       "2                         Large Tapestry Bolster Bed   \n",
       "3    16-Gauge-Sinks Vessel Sink in White with Faucet   \n",
       "4  Men's Crazy Horse 9'' Logger Boot - Steel Toe ...   \n",
       "\n",
       "                                              images  \\\n",
       "0  https://images.thdstatic.com/productImages/a7c...   \n",
       "1  https://images.thdstatic.com/productImages/87a...   \n",
       "2  https://images.thdstatic.com/productImages/e6b...   \n",
       "3  https://images.thdstatic.com/productImages/a6e...   \n",
       "4  https://images.thdstatic.com/productImages/e7f...   \n",
       "\n",
       "                                         description  product_id  \\\n",
       "0  This heavyweight, water-repellent hooded sweat...   310090686   \n",
       "1  If you need more length between your existing ...   206724580   \n",
       "2  Polyester cover resembling rich Italian tapest...   310347105   \n",
       "3  It features a rectangle shape. This vessel set...   312338711   \n",
       "4  This 9 in. black full grain leather logger boo...   308561619   \n",
       "\n",
       "            sku        gtin13                 brand   price currency  \\\n",
       "0  1.004455e+09  8.868595e+11              Carhartt   64.99      USD   \n",
       "1  1.001661e+09  6.697163e+11             Unbranded   71.61      USD   \n",
       "2  1.005202e+09  8.300001e+11  Carolina Pet Company  166.83      USD   \n",
       "3  1.005103e+09  6.279872e+11             Unbranded  507.63      USD   \n",
       "4  1.004096e+09  6.477880e+11                 Adtec  103.59      USD   \n",
       "\n",
       "  availability                               uniq_id  \\\n",
       "0      InStock  ba6b9373-a145-5203-a7fe-5d9ede759dbb   \n",
       "1      InStock  70b7dd77-6474-5085-9afa-cda486a7237d   \n",
       "2      InStock  8f573cae-947d-5262-8e51-b9381e8babeb   \n",
       "3      InStock  3867081f-ea97-5855-8d6d-603b8e81f983   \n",
       "4      InStock  e810513f-e5ed-598b-a17b-7ab60a1170fb   \n",
       "\n",
       "                   scraped_at  \n",
       "0  2021-12-14 00:55:53.060268  \n",
       "1  2021-12-14 00:55:53.070474  \n",
       "2  2021-12-14 00:55:53.677894  \n",
       "3  2021-12-14 00:55:53.987718  \n",
       "4  2021-12-14 00:55:54.003789  "
      ]
     },
     "execution_count": 3,
     "metadata": {},
     "output_type": "execute_result"
    }
   ],
   "source": [
    "df.head()"
   ]
  },
  {
   "cell_type": "markdown",
   "metadata": {},
   "source": []
  },
  {
   "cell_type": "code",
   "execution_count": 4,
   "metadata": {},
   "outputs": [
    {
     "name": "stdout",
     "output_type": "stream",
     "text": [
      "<class 'pandas.core.frame.DataFrame'>\n",
      "RangeIndex: 2551 entries, 0 to 2550\n",
      "Data columns (total 14 columns):\n",
      " #   Column        Non-Null Count  Dtype  \n",
      "---  ------        --------------  -----  \n",
      " 0   index         2551 non-null   int64  \n",
      " 1   url           2551 non-null   object \n",
      " 2   title         2551 non-null   object \n",
      " 3   images        2551 non-null   object \n",
      " 4   description   2551 non-null   object \n",
      " 5   product_id    2551 non-null   int64  \n",
      " 6   sku           2407 non-null   float64\n",
      " 7   gtin13        2170 non-null   float64\n",
      " 8   brand         2551 non-null   object \n",
      " 9   price         2551 non-null   float64\n",
      " 10  currency      2551 non-null   object \n",
      " 11  availability  2551 non-null   object \n",
      " 12  uniq_id       2551 non-null   object \n",
      " 13  scraped_at    2551 non-null   object \n",
      "dtypes: float64(3), int64(2), object(9)\n",
      "memory usage: 279.1+ KB\n"
     ]
    }
   ],
   "source": [
    "df.info()"
   ]
  },
  {
   "cell_type": "code",
   "execution_count": 5,
   "metadata": {},
   "outputs": [
    {
     "data": {
      "text/plain": [
       "availability\n",
       "InStock    2551\n",
       "Name: count, dtype: int64"
      ]
     },
     "execution_count": 5,
     "metadata": {},
     "output_type": "execute_result"
    }
   ],
   "source": [
    "df.availability.value_counts()"
   ]
  },
  {
   "cell_type": "code",
   "execution_count": 6,
   "metadata": {},
   "outputs": [
    {
     "data": {
      "text/plain": [
       "1"
      ]
     },
     "execution_count": 6,
     "metadata": {},
     "output_type": "execute_result"
    }
   ],
   "source": [
    "df.availability.nunique()"
   ]
  },
  {
   "cell_type": "markdown",
   "metadata": {},
   "source": [
    "We check the length of the text we'll be using for the search engine:"
   ]
  },
  {
   "cell_type": "code",
   "execution_count": 7,
   "metadata": {},
   "outputs": [],
   "source": [
    "df['title_len'] = df.title.str.len()\n",
    "df['description_len'] = df.description.str.len()"
   ]
  },
  {
   "cell_type": "code",
   "execution_count": 8,
   "metadata": {},
   "outputs": [
    {
     "data": {
      "image/png": "[encoded data removed]",
      "text/plain": [
       "<Figure size 500x500 with 1 Axes>"
      ]
     },
     "metadata": {},
     "output_type": "display_data"
    }
   ],
   "source": [
    "sns.displot(x='title_len', data=df)\n",
    "plt.title(\"Title lenght\");"
   ]
  },
  {
   "cell_type": "code",
   "execution_count": 9,
   "metadata": {},
   "outputs": [
    {
     "data": {
      "image/png": "[encoded data removed]",
      "text/plain": [
       "<Figure size 500x500 with 1 Axes>"
      ]
     },
     "metadata": {},
     "output_type": "display_data"
    }
   ],
   "source": [
    "sns.displot(x='description_len', data=df)\n",
    "plt.title(\"Description lenght\");"
   ]
  },
  {
   "cell_type": "markdown",
   "metadata": {},
   "source": [
    "We can use the features title, description, and brand for the search engine. "
   ]
  },
  {
   "cell_type": "markdown",
   "metadata": {},
   "source": [
    "### ETL for storing data in vectore database"
   ]
  },
  {
   "cell_type": "code",
   "execution_count": 10,
   "metadata": {},
   "outputs": [],
   "source": [
    "df = pd.read_csv(\"../data/home_depot_data_1_2021_12.csv\")"
   ]
  },
  {
   "cell_type": "code",
   "execution_count": 11,
   "metadata": {},
   "outputs": [],
   "source": [
    "home_depot_data_cols = ['title', 'description', 'brand', 'price']"
   ]
  },
  {
   "cell_type": "code",
   "execution_count": 12,
   "metadata": {},
   "outputs": [],
   "source": [
    "df = df[home_depot_data_cols]"
   ]
  },
  {
   "cell_type": "code",
   "execution_count": 13,
   "metadata": {},
   "outputs": [
    {
     "data": {
      "text/html": [
       "<div>\n",
       "<style scoped>\n",
       "    .dataframe tbody tr th:only-of-type {\n",
       "        vertical-align: middle;\n",
       "    }\n",
       "\n",
       "    .dataframe tbody tr th {\n",
       "        vertical-align: top;\n",
       "    }\n",
       "\n",
       "    .dataframe thead th {\n",
       "        text-align: right;\n",
       "    }\n",
       "</style>\n",
       "<table border=\"1\" class=\"dataframe\">\n",
       "  <thead>\n",
       "    <tr style=\"text-align: right;\">\n",
       "      <th></th>\n",
       "      <th>title</th>\n",
       "      <th>description</th>\n",
       "      <th>brand</th>\n",
       "      <th>price</th>\n",
       "    </tr>\n",
       "  </thead>\n",
       "  <tbody>\n",
       "    <tr>\n",
       "      <th>0</th>\n",
       "      <td>Men's 3X Large Carbon Heather Cotton/Polyester...</td>\n",
       "      <td>This heavyweight, water-repellent hooded sweat...</td>\n",
       "      <td>Carhartt</td>\n",
       "      <td>64.99</td>\n",
       "    </tr>\n",
       "    <tr>\n",
       "      <th>1</th>\n",
       "      <td>Turmode 30 ft. RP TNC Female to RP TNC Male Ad...</td>\n",
       "      <td>If you need more length between your existing ...</td>\n",
       "      <td>Unbranded</td>\n",
       "      <td>71.61</td>\n",
       "    </tr>\n",
       "    <tr>\n",
       "      <th>2</th>\n",
       "      <td>Large Tapestry Bolster Bed</td>\n",
       "      <td>Polyester cover resembling rich Italian tapest...</td>\n",
       "      <td>Carolina Pet Company</td>\n",
       "      <td>166.83</td>\n",
       "    </tr>\n",
       "    <tr>\n",
       "      <th>3</th>\n",
       "      <td>16-Gauge-Sinks Vessel Sink in White with Faucet</td>\n",
       "      <td>It features a rectangle shape. This vessel set...</td>\n",
       "      <td>Unbranded</td>\n",
       "      <td>507.63</td>\n",
       "    </tr>\n",
       "    <tr>\n",
       "      <th>4</th>\n",
       "      <td>Men's Crazy Horse 9'' Logger Boot - Steel Toe ...</td>\n",
       "      <td>This 9 in. black full grain leather logger boo...</td>\n",
       "      <td>Adtec</td>\n",
       "      <td>103.59</td>\n",
       "    </tr>\n",
       "  </tbody>\n",
       "</table>\n",
       "</div>"
      ],
      "text/plain": [
       "                                               title  \\\n",
       "0  Men's 3X Large Carbon Heather Cotton/Polyester...   \n",
       "1  Turmode 30 ft. RP TNC Female to RP TNC Male Ad...   \n",
       "2                         Large Tapestry Bolster Bed   \n",
       "3    16-Gauge-Sinks Vessel Sink in White with Faucet   \n",
       "4  Men's Crazy Horse 9'' Logger Boot - Steel Toe ...   \n",
       "\n",
       "                                         description                 brand  \\\n",
       "0  This heavyweight, water-repellent hooded sweat...              Carhartt   \n",
       "1  If you need more length between your existing ...             Unbranded   \n",
       "2  Polyester cover resembling rich Italian tapest...  Carolina Pet Company   \n",
       "3  It features a rectangle shape. This vessel set...             Unbranded   \n",
       "4  This 9 in. black full grain leather logger boo...                 Adtec   \n",
       "\n",
       "    price  \n",
       "0   64.99  \n",
       "1   71.61  \n",
       "2  166.83  \n",
       "3  507.63  \n",
       "4  103.59  "
      ]
     },
     "execution_count": 13,
     "metadata": {},
     "output_type": "execute_result"
    }
   ],
   "source": [
    "df.head()"
   ]
  },
  {
   "cell_type": "code",
   "execution_count": null,
   "metadata": {},
   "outputs": [],
   "source": []
  }
 ],
 "metadata": {
  "kernelspec": {
   "display_name": "venv",
   "language": "python",
   "name": "python3"
  },
  "language_info": {
   "codemirror_mode": {
    "name": "ipython",
    "version": 3
   },
   "file_extension": ".py",
   "mimetype": "text/x-python",
   "name": "python",
   "nbconvert_exporter": "python",
   "pygments_lexer": "ipython3",
   "version": "3.9.7"
  }
 },
 "nbformat": 4,
 "nbformat_minor": 2
}
